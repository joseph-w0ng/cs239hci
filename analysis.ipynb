{
 "cells": [
  {
   "cell_type": "code",
   "execution_count": 3,
   "id": "87499468",
   "metadata": {},
   "outputs": [],
   "source": [
    "import numpy as np"
   ]
  },
  {
   "cell_type": "code",
   "execution_count": 13,
   "id": "19d23d61",
   "metadata": {},
   "outputs": [],
   "source": [
    "# replace 4th entry with real data!!\n",
    "visualize_times = np.array([8, 48, 33, 33, 3, 55, 70, 12, 15, 10])\n",
    "# note: one entry is missing because the user never found the explanations on their own\n",
    "explanations_times = np.array([15, 3, 13, 13, 5, 2, 9, 18, 7]) \n",
    "delete_times = np.array([19, 32, 10, 10, 3, 3, 5, 18, 17, 15])\n",
    "task_times = np.array([11, 8, 10, 10, 30, 55, 28, 20, 8, 5])\n",
    "usability_ratings = np.array([9, 9, 10, 10, 8.5, 8, 8, 9, 9, 9])\n",
    "visualization_ratings = np.array([9, 9, 9.5, 9.5, 9, 9, 10, 9, 9, 9])\n",
    "expectation_ratings = np.array([8, 8, 10, 10, 9.5, 9, 10, 8, 9, 10])\n",
    "explanation_ratings = np.array([7, 8, 5, 5, 8, 7, 10, 9, 10, 8])\n",
    "\n",
    "times_names = [\"Cookie Viewing Time\", \"Explanation Viewing Time\", \"Deleting Cookies Times\", \"Task Times\"]\n",
    "times = [visualize_times, explanations_times, delete_times, task_times]\n",
    "score_names = [\"Usability\", \"Visualization\", \"Expectation\", \"Explanation\"]\n",
    "scores = [usability_ratings, visualization_ratings, expectation_ratings, explanation_ratings]\n",
    "\n",
    "generate_all_stats = zip(times_names, times)\n",
    "generate_mean_sd = zip(score_names, scores)"
   ]
  },
  {
   "cell_type": "code",
   "execution_count": 14,
   "id": "c8e0163d",
   "metadata": {},
   "outputs": [
    {
     "name": "stdout",
     "output_type": "stream",
     "text": [
      "\n",
      "Cookie Viewing Time:\n",
      "\t Mean: 28.7\n",
      "\t Std Dev: 21.70737201966189\n",
      "\t Median: 24.0\n",
      "\t 1st Quartile: 10.5\n",
      "\t 3rd Quartile: 44.25\n",
      "\t Min: 3\n",
      "\t Max: 70\n",
      "\n",
      "\n",
      "Explanation Viewing Time:\n",
      "\t Mean: 9.444444444444445\n",
      "\t Std Dev: 5.29383522203182\n",
      "\t Median: 9.0\n",
      "\t 1st Quartile: 5.0\n",
      "\t 3rd Quartile: 13.0\n",
      "\t Min: 2\n",
      "\t Max: 18\n",
      "\n",
      "\n",
      "Deleting Cookies Times:\n",
      "\t Mean: 13.2\n",
      "\t Std Dev: 8.506468127254696\n",
      "\t Median: 12.5\n",
      "\t 1st Quartile: 6.25\n",
      "\t 3rd Quartile: 17.75\n",
      "\t Min: 3\n",
      "\t Max: 32\n",
      "\n",
      "\n",
      "Task Times:\n",
      "\t Mean: 18.5\n",
      "\t Std Dev: 14.698639392814561\n",
      "\t Median: 10.5\n",
      "\t 1st Quartile: 8.5\n",
      "\t 3rd Quartile: 26.0\n",
      "\t Min: 5\n",
      "\t Max: 55\n",
      "\n",
      "Usability:\n",
      "\t Mean: 8.95\n",
      "\t Std Dev: 0.6500000000000001\n",
      "\n",
      "Visualization:\n",
      "\t Mean: 9.2\n",
      "\t Std Dev: 0.33166247903554\n",
      "\n",
      "Expectation:\n",
      "\t Mean: 9.15\n",
      "\t Std Dev: 0.8381527307120105\n",
      "\n",
      "Explanation:\n",
      "\t Mean: 7.7\n",
      "\t Std Dev: 1.676305461424021\n",
      "\n"
     ]
    }
   ],
   "source": [
    "for name, data in generate_all_stats:\n",
    "    print()\n",
    "    print(f'{name}:')\n",
    "    print(f'\\t Mean: {np.mean(data)}')\n",
    "    print(f'\\t Std Dev: {np.std(data)}')\n",
    "    print(f'\\t Median: {np.percentile(data, 50)}')\n",
    "    print(f'\\t 1st Quartile: {np.percentile(data, 25)}')\n",
    "    print(f'\\t 3rd Quartile: {np.percentile(data, 75)}')\n",
    "    print(f'\\t Min: {np.min(data)}')\n",
    "    print(f'\\t Max: {np.max(data)}')\n",
    "    print() # Start new line for next stats\n",
    "    \n",
    "for name, data in generate_mean_sd:\n",
    "    print(f'{name}:')\n",
    "    print(f'\\t Mean: {np.mean(data)}')\n",
    "    print(f'\\t Std Dev: {np.std(data)}')\n",
    "    print() # Start new line for next stats"
   ]
  },
  {
   "cell_type": "code",
   "execution_count": null,
   "id": "e51b6829",
   "metadata": {},
   "outputs": [],
   "source": []
  }
 ],
 "metadata": {
  "kernelspec": {
   "display_name": "Python 3 (ipykernel)",
   "language": "python",
   "name": "python3"
  },
  "language_info": {
   "codemirror_mode": {
    "name": "ipython",
    "version": 3
   },
   "file_extension": ".py",
   "mimetype": "text/x-python",
   "name": "python",
   "nbconvert_exporter": "python",
   "pygments_lexer": "ipython3",
   "version": "3.9.7"
  }
 },
 "nbformat": 4,
 "nbformat_minor": 5
}
